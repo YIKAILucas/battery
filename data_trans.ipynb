{
 "cells": [
  {
   "cell_type": "code",
   "execution_count": 1,
   "metadata": {},
   "outputs": [],
   "source": [
    "import numpy as np\n",
    "from glob import glob\n",
    "import pandas as pd\n",
    "import random\n",
    "from tqdm import tqdm\n",
    "from sklearn import metrics\n",
    "from sklearn.metrics import auc\n",
    "import pickle\n",
    "import pyod\n",
    "from pyod.utils.stat_models import pairwise_distances_no_broadcast\n",
    "import warnings\n",
    "warnings.filterwarnings(\"ignore\")\n"
   ]
  },
  {
   "cell_type": "code",
   "execution_count": null,
   "metadata": {},
   "outputs": [],
   "source": []
  },
  {
   "cell_type": "code",
   "execution_count": 2,
   "metadata": {},
   "outputs": [
    {
     "name": "stdout",
     "output_type": "stream",
     "text": [
      "6234\n",
      "6234\n"
     ]
    }
   ],
   "source": [
    "train_path='./data/pkl/Test_A'#存放数据的路径\n",
    "# submit_path='./data/Test_A'#存放数据的路径\n",
    "csv_path = './data/Test'\n",
    "csv_files: list[str] = glob(csv_path+'/*.csv')\n",
    "pkl_files = glob(train_path+'/*.pkl')\n",
    "print(len(csv_files))\n",
    "print(len(pkl_files))"
   ]
  },
  {
   "cell_type": "code",
   "execution_count": 3,
   "metadata": {},
   "outputs": [
    {
     "name": "stderr",
     "output_type": "stream",
     "text": [
      "  0%|          | 0/6234 [00:00<?, ?it/s]\n"
     ]
    },
    {
     "ename": "KeyError",
     "evalue": "'label'",
     "output_type": "error",
     "traceback": [
      "\u001b[0;31m---------------------------------------------------------------------------\u001b[0m",
      "\u001b[0;31mKeyError\u001b[0m                                  Traceback (most recent call last)",
      "Cell \u001b[0;32mIn[3], line 7\u001b[0m\n\u001b[1;32m      5\u001b[0m pic \u001b[38;5;241m=\u001b[39m \u001b[38;5;28mopen\u001b[39m(each_path,\u001b[38;5;124m'\u001b[39m\u001b[38;5;124mrb\u001b[39m\u001b[38;5;124m'\u001b[39m)\n\u001b[1;32m      6\u001b[0m this_pkl_file\u001b[38;5;241m=\u001b[39m pickle\u001b[38;5;241m.\u001b[39mload(pic)\n\u001b[0;32m----> 7\u001b[0m \u001b[38;5;28;01mif\u001b[39;00m \u001b[43mthis_pkl_file\u001b[49m\u001b[43m[\u001b[49m\u001b[38;5;241;43m1\u001b[39;49m\u001b[43m]\u001b[49m\u001b[43m[\u001b[49m\u001b[38;5;124;43m'\u001b[39;49m\u001b[38;5;124;43mlabel\u001b[39;49m\u001b[38;5;124;43m'\u001b[39;49m\u001b[43m]\u001b[49m \u001b[38;5;241m==\u001b[39m \u001b[38;5;124m'\u001b[39m\u001b[38;5;124m00\u001b[39m\u001b[38;5;124m'\u001b[39m:\n\u001b[1;32m      8\u001b[0m     ind_pkl_files\u001b[38;5;241m.\u001b[39mappend(each_path)\n\u001b[1;32m      9\u001b[0m \u001b[38;5;28;01melse\u001b[39;00m:\n",
      "\u001b[0;31mKeyError\u001b[0m: 'label'"
     ]
    }
   ],
   "source": [
    "\n",
    "ind_pkl_files = []#存放标签为0的文件\n",
    "ood_pkl_files = []#存放标签为1的文件\n",
    "for each_path in tqdm(pkl_files):\n",
    "    #下载pkl文件\n",
    "    pic = open(each_path,'rb')\n",
    "    this_pkl_file= pickle.load(pic)\n",
    "    if this_pkl_file[1]['label'] == '00':\n",
    "        ind_pkl_files.append(each_path)\n",
    "    else:\n",
    "        ood_pkl_files.append(each_path)\n",
    "\n",
    "random.seed(0)\n",
    "random.shuffle(ind_pkl_files)\n",
    "random.shuffle(ood_pkl_files)"
   ]
  },
  {
   "cell_type": "code",
   "execution_count": 3,
   "metadata": {},
   "outputs": [
    {
     "data": {
      "text/plain": [
       "(0, 0)"
      ]
     },
     "execution_count": 3,
     "metadata": {},
     "output_type": "execute_result"
    }
   ],
   "source": [
    "len(ind_pkl_files),len(ood_pkl_files)\n"
   ]
  },
  {
   "cell_type": "code",
   "execution_count": 17,
   "metadata": {},
   "outputs": [
    {
     "data": {
      "text/plain": [
       "5933"
      ]
     },
     "execution_count": 17,
     "metadata": {},
     "output_type": "execute_result"
    }
   ],
   "source": [
    "train_pkl_files=[]\n",
    "for i in range(len(ind_pkl_files)//4):\n",
    "    train_pkl_files.append(ind_pkl_files[i])\n",
    "len(train_pkl_files)"
   ]
  },
  {
   "cell_type": "code",
   "execution_count": 18,
   "metadata": {},
   "outputs": [
    {
     "data": {
      "text/plain": [
       "22456"
      ]
     },
     "execution_count": 18,
     "metadata": {},
     "output_type": "execute_result"
    }
   ],
   "source": [
    "test_pkl_files=[]\n",
    "for j in range(len(ind_pkl_files)//4,len(ind_pkl_files)):\n",
    "    test_pkl_files.append(ind_pkl_files[j])\n",
    "for item in ood_pkl_files:\n",
    "    test_pkl_files.append(item)\n",
    "len(test_pkl_files)"
   ]
  },
  {
   "cell_type": "code",
   "execution_count": 5,
   "metadata": {},
   "outputs": [],
   "source": [
    "import pickle\n",
    "\n",
    "def trans_2_csv(file, is_train=True):\n",
    "    with open(file, 'rb') as f:\n",
    "        pkl_data = pickle.load(f)\n",
    "        print(f)\n",
    "        # break\n",
    "        # print(len(pkl_data))\n",
    "        # print(pkl_data[0].shape)\n",
    "        # # print(pkl_data[1].shape)\n",
    "        # print(pkl_data[1])\n",
    "        # print(pkl_data[0])\n",
    "        data = pkl_data[0]\n",
    "        headers: list[str] = ['volt','current','soc','max_single_volt','min_single_volt','max_temp','min_temp','timestamp']\n",
    "        df = pd.DataFrame(pkl_data[0],columns = headers)\n",
    "        if is_train:\n",
    "            df[\"label\"]=pkl_data[1][\"label\"]\n",
    "        # 将DataFrame存储为CSV文件\n",
    "        # df.to_csv('data.csv', index=True)\n",
    "    return df"
   ]
  },
  {
   "cell_type": "code",
   "execution_count": 48,
   "metadata": {},
   "outputs": [
    {
     "data": {
      "text/plain": [
       "list"
      ]
     },
     "execution_count": 48,
     "metadata": {},
     "output_type": "execute_result"
    }
   ],
   "source": [
    "type(train_pkl_files)"
   ]
  },
  {
   "cell_type": "code",
   "execution_count": 6,
   "metadata": {},
   "outputs": [
    {
     "name": "stdout",
     "output_type": "stream",
     "text": [
      "<_io.BufferedReader name='./data/pkl/Test_A/6509.pkl'>\n"
     ]
    }
   ],
   "source": [
    "for f in pkl_files:\n",
    "    res_df = trans_2_csv(f,is_train=False)\n",
    "    break\n",
    "    # file_name =  f.split('/')[-1].split('.')[0]\n",
    "    # res_df.to_csv(f\"./data/Test/{file_name}.csv\", index=False)"
   ]
  },
  {
   "cell_type": "code",
   "execution_count": null,
   "metadata": {},
   "outputs": [],
   "source": []
  },
  {
   "cell_type": "code",
   "execution_count": 35,
   "metadata": {},
   "outputs": [
    {
     "name": "stdout",
     "output_type": "stream",
     "text": [
      "MyNet(\n",
      "  (fc1): Linear(in_features=2048, out_features=128, bias=True)\n",
      "  (fc2): Linear(in_features=128, out_features=1, bias=True)\n",
      "  (m): Sigmoid()\n",
      ")\n",
      "torch.Size([16, 1])\n"
     ]
    }
   ],
   "source": []
  }
 ],
 "metadata": {
  "kernelspec": {
   "display_name": "battery-j7E_kv4E-py3.10",
   "language": "python",
   "name": "python3"
  },
  "language_info": {
   "codemirror_mode": {
    "name": "ipython",
    "version": 3
   },
   "file_extension": ".py",
   "mimetype": "text/x-python",
   "name": "python",
   "nbconvert_exporter": "python",
   "pygments_lexer": "ipython3",
   "version": "3.10.13"
  }
 },
 "nbformat": 4,
 "nbformat_minor": 2
}
