{
 "cells": [
  {
   "cell_type": "code",
   "execution_count": 10,
   "metadata": {},
   "outputs": [],
   "source": [
    "import numpy as np\n",
    "from glob import glob\n",
    "import pandas as pd\n",
    "import random\n",
    "from tqdm import tqdm\n",
    "from sklearn import metrics\n",
    "from sklearn.metrics import auc\n",
    "import pickle\n",
    "import pyod\n",
    "from pyod.utils.stat_models import pairwise_distances_no_broadcast\n",
    "import warnings\n",
    "from icecream import ic\n",
    "from src.constant import translation_dict\n",
    "warnings.filterwarnings(\"ignore\")\n"
   ]
  },
  {
   "cell_type": "code",
   "execution_count": 2,
   "metadata": {},
   "outputs": [],
   "source": [
    "import pandas as pd\n",
    "import glob\n",
    "\n",
    "# 获取所有的CSV文件\n",
    "csv_path = 'data/Train'\n",
    "pkl_path = 'data/pkl/Train'\n",
    "csv_files = glob.glob(csv_path+'/*.csv')\n",
    "pkl_files = glob.glob(pkl_path+'/*.pkl')"
   ]
  },
  {
   "cell_type": "code",
   "execution_count": 3,
   "metadata": {},
   "outputs": [],
   "source": [
    "with_label_df_list = [pd.read_csv(f) for f in csv_files]\n",
    "non_label_df_list = [pd.read_csv(f).drop('label', axis=1)  for f in csv_files]\n"
   ]
  },
  {
   "cell_type": "code",
   "execution_count": 5,
   "metadata": {},
   "outputs": [],
   "source": [
    "df_list = [pd.read_csv(f) for f in csv_files]\n",
    "\n",
    "random.shuffle(df_list)\n",
    "split_point = int(len(df_list) * 0.3)  # 假设你想要80%的数据作为训练集\n",
    "\n",
    "X_list = [df.drop('label', axis=1) for df in df_list]\n",
    "y_list = [df['label'] for df in df_list]\n",
    "\n",
    "train = df_list[:split_point]\n",
    "test = df_list[split_point:]\n",
    "ic(len(train), len(test));"
   ]
  },
  {
   "cell_type": "code",
   "execution_count": 12,
   "metadata": {},
   "outputs": [
    {
     "name": "stderr",
     "output_type": "stream",
     "text": [
      "ic| X_list[0]"
     ]
    },
    {
     "name": "stderr",
     "output_type": "stream",
     "text": [
      ".info(): None, y_list[0].info(): None\n"
     ]
    },
    {
     "name": "stdout",
     "output_type": "stream",
     "text": [
      "<class 'pandas.core.frame.DataFrame'>\n",
      "RangeIndex: 256 entries, 0 to 255\n",
      "Data columns (total 8 columns):\n",
      " #   Column           Non-Null Count  Dtype  \n",
      "---  ------           --------------  -----  \n",
      " 0   volt             256 non-null    float64\n",
      " 1   current          256 non-null    float64\n",
      " 2   soc              256 non-null    float64\n",
      " 3   max_single_volt  256 non-null    float64\n",
      " 4   min_single_volt  256 non-null    float64\n",
      " 5   max_temp         256 non-null    float64\n",
      " 6   min_temp         256 non-null    float64\n",
      " 7   timestamp        256 non-null    float64\n",
      "dtypes: float64(8)\n",
      "memory usage: 16.1 KB\n",
      "<class 'pandas.core.series.Series'>\n",
      "RangeIndex: 256 entries, 0 to 255\n",
      "Series name: label\n",
      "Non-Null Count  Dtype\n",
      "--------------  -----\n",
      "256 non-null    int64\n",
      "dtypes: int64(1)\n",
      "memory usage: 2.1 KB\n"
     ]
    }
   ],
   "source": [
    "ic(X_list[0].info(), y_list[0].info());"
   ]
  },
  {
   "cell_type": "code",
   "execution_count": null,
   "metadata": {},
   "outputs": [],
   "source": [
    "ic(len(df_list));\n",
    "ic(df_list[0].shape);"
   ]
  },
  {
   "cell_type": "code",
   "execution_count": 27,
   "metadata": {},
   "outputs": [],
   "source": [
    "from torch.utils.data import DataLoader, Dataset\n",
    "\n",
    "class MyDataset(Dataset):\n",
    "    def __init__(self, X_list, y_list):\n",
    "        self.X = X_list\n",
    "        self.y = y_list\n",
    "        \n",
    "        self.length=len(self.X)\n",
    "\n",
    "    def __len__(self):\n",
    "        return self.length\n",
    "\n",
    "    def __getitem__(self, idx):\n",
    "        return self.X[idx].values,self.y[idx].values\n",
    "\n",
    "dataset = MyDataset(X_list=X_list, y_list=y_list)\n",
    "data_loader = DataLoader(dataset, batch_size=32, shuffle=True)\n"
   ]
  },
  {
   "cell_type": "code",
   "execution_count": 29,
   "metadata": {},
   "outputs": [
    {
     "name": "stderr",
     "output_type": "stream",
     "text": [
      "ic| data.shape: torch.Size([64, 256, 8])\n",
      "    target.shape: torch.Size([64, 256])\n"
     ]
    },
    {
     "name": "stdout",
     "output_type": "stream",
     "text": [
      "Batch idx 0, data shape torch.Size([64, 256, 8]), target shape torch.Size([64, 256])\n"
     ]
    }
   ],
   "source": [
    "# 迭代 DataLoader\n",
    "for batch_idx, (data, target) in enumerate(data_loader):\n",
    "    print(\"Batch idx {}, data shape {}, target shape {}\".format(\n",
    "        batch_idx, data.shape, target.shape))\n",
    "    ic(data.shape, target.shape);\n",
    "    # 你可以在这里添加你的测试代码，例如检查数据和目标的形状、类型等\n",
    "    # assert data.shape == (64, 1, 28, 28)\n",
    "    # assert target.shape == (64,)\n",
    "    \n",
    "    # 为了测试，我们只迭代一次\n",
    "    break"
   ]
  },
  {
   "cell_type": "code",
   "execution_count": null,
   "metadata": {},
   "outputs": [],
   "source": [
    "dataset.data[0]"
   ]
  },
  {
   "cell_type": "markdown",
   "metadata": {},
   "source": [
    "# 模型 MLP"
   ]
  },
  {
   "cell_type": "code",
   "execution_count": null,
   "metadata": {},
   "outputs": [],
   "source": [
    "import torch\n",
    "import torch.nn as nn\n",
    "import torch.nn.functional as F\n",
    "\n",
    "class MyNet(nn.Module):\n",
    "    def __init__(self):\n",
    "        super(MyNet, self).__init__()\n",
    "        self.fc1 = nn.Linear(in_features=8*256, out_features=128)\n",
    "        self.fc2 = nn.Linear(in_features=128, out_features=1)\n",
    "        self.m = nn.Sigmoid()\n",
    "\n",
    "    def forward(self, x):\n",
    "        x = torch.flatten(x, start_dim=1)\n",
    "        x = self.fc1(x)\n",
    "        x = self.fc2(x)\n",
    "        x = self.m(x)\n",
    "        return x\n",
    "\n",
    "if __name__ == \"__main__\":\n",
    "    net = MyNet()\n",
    "    print(net)\n",
    "    input = torch.randn(16, 8, 256)\n",
    "    out = net(input)\n",
    "    print(out.size())"
   ]
  },
  {
   "cell_type": "code",
   "execution_count": null,
   "metadata": {},
   "outputs": [],
   "source": [
    "train[1].info()"
   ]
  },
  {
   "cell_type": "code",
   "execution_count": null,
   "metadata": {},
   "outputs": [],
   "source": []
  }
 ],
 "metadata": {
  "kernelspec": {
   "display_name": "battery-j7E_kv4E-py3.10",
   "language": "python",
   "name": "python3"
  },
  "language_info": {
   "codemirror_mode": {
    "name": "ipython",
    "version": 3
   },
   "file_extension": ".py",
   "mimetype": "text/x-python",
   "name": "python",
   "nbconvert_exporter": "python",
   "pygments_lexer": "ipython3",
   "version": "3.10.12"
  }
 },
 "nbformat": 4,
 "nbformat_minor": 2
}
